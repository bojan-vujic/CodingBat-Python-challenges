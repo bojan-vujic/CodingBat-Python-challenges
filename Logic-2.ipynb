{
 "cells": [
  {
   "cell_type": "markdown",
   "metadata": {},
   "source": [
    "# Logic 2"
   ]
  },
  {
   "cell_type": "code",
   "execution_count": 1,
   "metadata": {},
   "outputs": [
    {
     "data": {
      "text/plain": [
       "True"
      ]
     },
     "execution_count": 1,
     "metadata": {},
     "output_type": "execute_result"
    }
   ],
   "source": [
    "# We want to make a row of bricks that is goal inches long. We have a number of small\n",
    "# bricks (1 inch each) and big bricks (5 inches each). Return True if it is possible\n",
    "# to make the goal by choosing from the given bricks. This is a little harder than\n",
    "# it looks and can be done without any loops. See also: Introduction to MakeBricks\n",
    "\n",
    "def make_bricks(small, big, goal):\n",
    "    if (goal > small + 5 * big) or (goal % 5 > small):\n",
    "        return False\n",
    "    return True\n",
    "\n",
    "make_bricks(3, 1, 8)"
   ]
  },
  {
   "cell_type": "code",
   "execution_count": 2,
   "metadata": {},
   "outputs": [
    {
     "data": {
      "text/plain": [
       "6"
      ]
     },
     "execution_count": 2,
     "metadata": {},
     "output_type": "execute_result"
    }
   ],
   "source": [
    "# Given 3 int values, a b c, return their sum. However, if one of the values is the\n",
    "# same as another of the values, it does not count towards the sum.\n",
    "\n",
    "def lone_sum(a, b, c):\n",
    "    sum = a + b + c\n",
    "    if len(set([a, b, c])) == 3: return sum\n",
    "    if a == b and a != c: return c\n",
    "    if a == c and a != b: return b\n",
    "    if b == c and a != b: return a\n",
    "    return 0\n",
    "\n",
    "lone_sum(1, 2, 3)"
   ]
  },
  {
   "cell_type": "code",
   "execution_count": 3,
   "metadata": {},
   "outputs": [
    {
     "data": {
      "text/plain": [
       "6"
      ]
     },
     "execution_count": 3,
     "metadata": {},
     "output_type": "execute_result"
    }
   ],
   "source": [
    "# Given 3 int values, a b c, return their sum. However, if one of the values is 13 then\n",
    "# it does not count towards the sum and values to its right do not count.\n",
    "# So for example, if b is 13, then both b and c do not count.\n",
    "\n",
    "def lucky_sum(a, b, c):\n",
    "    sum = 0\n",
    "    for i in [a, b, c]:\n",
    "        sum += i\n",
    "        if i == 13:\n",
    "            return sum - i\n",
    "    return sum\n",
    "\n",
    "lucky_sum(1, 2, 3)"
   ]
  },
  {
   "cell_type": "code",
   "execution_count": 4,
   "metadata": {},
   "outputs": [
    {
     "data": {
      "text/plain": [
       "6"
      ]
     },
     "execution_count": 4,
     "metadata": {},
     "output_type": "execute_result"
    }
   ],
   "source": [
    "# Given 3 int values, a b c, return their sum. However, if any of the values is a teen -- in the\n",
    "# range 13..19 inclusive -- then that value counts as 0, except 15 and 16 do not count as a teens.\n",
    "# Write a separate helper \"def fix_teen(n):\"that takes in an int value and returns that value\n",
    "# fixed for the teen rule. In this way, you avoid repeating the teen code 3 times\n",
    "# (i.e. \"decomposition\"). Define the helper below and at the same\n",
    "# indent level as the main no_teen_sum().\n",
    "\n",
    "def no_teen_sum(a, b, c):\n",
    "    list = [a, b, c]\n",
    "    for i, val in enumerate(list):\n",
    "        if val in [13, 14, 17, 18, 19]:\n",
    "            list[i] = 0\n",
    "    return sum(list)\n",
    "\n",
    "no_teen_sum(1, 2, 3)"
   ]
  },
  {
   "cell_type": "code",
   "execution_count": 5,
   "metadata": {},
   "outputs": [
    {
     "data": {
      "text/plain": [
       "60"
      ]
     },
     "execution_count": 5,
     "metadata": {},
     "output_type": "execute_result"
    }
   ],
   "source": [
    "# For this problem, we'll round an int value up to the next multiple of 10 if its rightmost\n",
    "# digit is 5 or more, so 15 rounds up to 20. Alternately, round down to the previous\n",
    "# multiple of 10 if its rightmost digit is less than 5, so 12 rounds down to 10.\n",
    "# Given 3 ints, a b c, return the sum of their rounded values. To avoid code\n",
    "# repetition, write a separate helper \"def round10(num):\" and call it 3 times.\n",
    "# Write the helper entirely below and at the same indent level as round_sum().\n",
    "\n",
    "def round_sum(a, b, c):\n",
    "    sum = 0\n",
    "    for i in [a, b, c]:\n",
    "        mod = i % 10\n",
    "        if mod >= 5:\n",
    "            sum += i - mod + 10\n",
    "        else:\n",
    "            sum += i - mod\n",
    "    return sum\n",
    "\n",
    "round_sum(16, 17, 18)"
   ]
  },
  {
   "cell_type": "code",
   "execution_count": 6,
   "metadata": {},
   "outputs": [
    {
     "data": {
      "text/plain": [
       "True"
      ]
     },
     "execution_count": 6,
     "metadata": {},
     "output_type": "execute_result"
    }
   ],
   "source": [
    "# Given three ints, a b c, return True if one of b or c is \"close\" (differing from\n",
    "# a by at most 1), while the other is \"far\", differing from both other values\n",
    "# by 2 or more. Note: abs(num) computes the absolute value of a number.\n",
    "\n",
    "def close_far(a, b, c):\n",
    "    if (abs(a - b) <= 1 and abs(a - c) >= 2 and abs(b - c) >= 2): return True\n",
    "    if (abs(a - c) <= 1 and abs(a - b) >= 2 and abs(c - b) >= 2): return True\n",
    "    return False\n",
    "\n",
    "close_far(1, 2, 10)"
   ]
  },
  {
   "cell_type": "code",
   "execution_count": 7,
   "metadata": {},
   "outputs": [
    {
     "data": {
      "text/plain": [
       "4"
      ]
     },
     "execution_count": 7,
     "metadata": {},
     "output_type": "execute_result"
    }
   ],
   "source": [
    "# We want make a package of goal kilos of chocolate. We have small bars (1 kilo each)\n",
    "# and big bars (5 kilos each). Return the number of small bars to use, assuming we\n",
    "# always use big bars before small bars. Return -1 if it can't be done.\n",
    "\n",
    "def make_chocolate(small, big, goal):\n",
    "    rem = goal - 5 * big if goal >= 5 * big else goal % 5\n",
    "    if rem <= small:\n",
    "        return rem\n",
    "    return -1\n",
    "\n",
    "make_chocolate(4, 1, 9)"
   ]
  }
 ],
 "metadata": {
  "kernelspec": {
   "display_name": "Python 3",
   "language": "python",
   "name": "python3"
  },
  "language_info": {
   "codemirror_mode": {
    "name": "ipython",
    "version": 3
   },
   "file_extension": ".py",
   "mimetype": "text/x-python",
   "name": "python",
   "nbconvert_exporter": "python",
   "pygments_lexer": "ipython3",
   "version": "3.7.4"
  }
 },
 "nbformat": 4,
 "nbformat_minor": 2
}
