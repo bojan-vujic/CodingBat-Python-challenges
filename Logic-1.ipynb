{
 "cells": [
  {
   "cell_type": "markdown",
   "metadata": {},
   "source": [
    "# Logic 1"
   ]
  },
  {
   "cell_type": "code",
   "execution_count": 1,
   "metadata": {},
   "outputs": [
    {
     "data": {
      "text/plain": [
       "False"
      ]
     },
     "execution_count": 1,
     "metadata": {},
     "output_type": "execute_result"
    }
   ],
   "source": [
    "# When squirrels get together for a party, they like to have cigars. A squirrel party\n",
    "# is successful when the number of cigars is between 40 and 60, inclusive.\n",
    "# Unless it is the weekend, in which case there is no upper bound on the number of cigars.\n",
    "# Return True if the party with the given values is successful, or False otherwise.\n",
    "\n",
    "def cigar_party(cigars, is_weekend):\n",
    "    if is_weekend:\n",
    "        return 40 <= cigars\n",
    "    return 40 <= cigars and cigars <= 60\n",
    "\n",
    "cigar_party(30, False)"
   ]
  },
  {
   "cell_type": "code",
   "execution_count": 2,
   "metadata": {},
   "outputs": [
    {
     "data": {
      "text/plain": [
       "2"
      ]
     },
     "execution_count": 2,
     "metadata": {},
     "output_type": "execute_result"
    }
   ],
   "source": [
    "# You and your date are trying to get a table at a restaurant. The parameter \"you\" is \n",
    "# the stylishness of your clothes, in the range 0..10, and \"date\" is the stylishness\n",
    "# of your date's clothes. The result getting the table is encoded as an int value with\n",
    "# 0=no, 1=maybe, 2=yes. If either of you is very stylish, 8 or more, then the result\n",
    "# is 2 (yes). With the exception that if either of you has style of 2 or less, then\n",
    "# the result is 0 (no). Otherwise the result is 1 (maybe).\n",
    "\n",
    "def date_fashion(you, date):\n",
    "    if you <= 2 or date <= 2: return 0\n",
    "    if you >= 8 or date >= 8: return 2\n",
    "    return 1\n",
    "\n",
    "date_fashion(5, 10)"
   ]
  },
  {
   "cell_type": "code",
   "execution_count": 3,
   "metadata": {},
   "outputs": [
    {
     "data": {
      "text/plain": [
       "True"
      ]
     },
     "execution_count": 3,
     "metadata": {},
     "output_type": "execute_result"
    }
   ],
   "source": [
    "# The squirrels in Palo Alto spend most of the day playing. In particular, they play\n",
    "# if the temperature is between 60 and 90 (inclusive). Unless it is summer, then the\n",
    "# upper limit is 100 instead of 90. Given an int temperature and a boolean is_summer,\n",
    "# return True if the squirrels play and False otherwise.\n",
    "\n",
    "def squirrel_play(temp, is_summer):\n",
    "    if (is_summer and 60 <= temp <= 100) or (60 <= temp <= 90):\n",
    "        return True\n",
    "    return False\n",
    "\n",
    "squirrel_play(70, False)"
   ]
  },
  {
   "cell_type": "code",
   "execution_count": 4,
   "metadata": {},
   "outputs": [
    {
     "data": {
      "text/plain": [
       "0"
      ]
     },
     "execution_count": 4,
     "metadata": {},
     "output_type": "execute_result"
    }
   ],
   "source": [
    "# You are driving a little too fast, and a police officer stops you. Write code to compute\n",
    "# the result, encoded as an int value: 0=no ticket, 1=small ticket, 2=big ticket. If speed\n",
    "# is 60 or less, the result is 0. If speed is between 61 and 80 inclusive, the result is 1.\n",
    "# If speed is 81 or more, the result is 2. Unless it is your birthday -- on that day, your\n",
    "# speed can be 5 higher in all cases.\n",
    "\n",
    "def caught_speeding(speed, is_birthday):\n",
    "    addToTicket = 5 if is_birthday else 0\n",
    "    if speed <= 60 + addToTicket:\n",
    "        return 0\n",
    "    if 60 + addToTicket < speed and speed <= 80 + addToTicket:\n",
    "        return 1             \n",
    "    return 2\n",
    "\n",
    "caught_speeding(60, False)"
   ]
  },
  {
   "cell_type": "code",
   "execution_count": 5,
   "metadata": {},
   "outputs": [
    {
     "data": {
      "text/plain": [
       "7"
      ]
     },
     "execution_count": 5,
     "metadata": {},
     "output_type": "execute_result"
    }
   ],
   "source": [
    "# Given 2 ints, a and b, return their sum. However, sums in the range 10..19 inclusive,\n",
    "# are forbidden, so in that case just return 20.\n",
    "\n",
    "def sorta_sum(a, b):\n",
    "    s = a + b\n",
    "    if 10 <= s <= 19:\n",
    "        return 20\n",
    "    return s\n",
    "\n",
    "sorta_sum(3, 4)"
   ]
  },
  {
   "cell_type": "code",
   "execution_count": 6,
   "metadata": {},
   "outputs": [
    {
     "data": {
      "text/plain": [
       "'7:00'"
      ]
     },
     "execution_count": 6,
     "metadata": {},
     "output_type": "execute_result"
    }
   ],
   "source": [
    "# Given a day of the week encoded as 0=Sun, 1=Mon, 2=Tue, ...6=Sat, and a boolean\n",
    "# indicating if we are on vacation, return a string of the form \"7:00\" indicating\n",
    "# when the alarm clock should ring. Weekdays, the alarm should be \"7:00\" and on\n",
    "# the weekend it should be \"10:00\". Unless we are on vacation -- then on weekdays\n",
    "# it should be \"10:00\" and weekends it should be \"off\".\n",
    "\n",
    "def alarm_clock(day, vacation):\n",
    "    mon_fri = \"10:00\" if vacation else \"7:00\"\n",
    "    sat_sun = \"off\" if vacation else \"10:00\"\n",
    "    \n",
    "    if 1 <= day <= 5:\n",
    "        return mon_fri\n",
    "    \n",
    "    return sat_sun\n",
    "\n",
    "alarm_clock(1, False)"
   ]
  },
  {
   "cell_type": "code",
   "execution_count": 7,
   "metadata": {},
   "outputs": [
    {
     "data": {
      "text/plain": [
       "True"
      ]
     },
     "execution_count": 7,
     "metadata": {},
     "output_type": "execute_result"
    }
   ],
   "source": [
    "# The number 6 is a truly great number. Given two int values, a and b, return True\n",
    "# if either one is 6. Or if their sum or difference is 6. Note: the function abs(num)\n",
    "# computes the absolute value of a number.\n",
    "\n",
    "def love6(a, b):\n",
    "    if 6 in [a, b, a + b, a - b, b - a]:\n",
    "        return True\n",
    "    return False\n",
    "\n",
    "love6(6, 4)"
   ]
  },
  {
   "cell_type": "code",
   "execution_count": 8,
   "metadata": {},
   "outputs": [
    {
     "data": {
      "text/plain": [
       "True"
      ]
     },
     "execution_count": 8,
     "metadata": {},
     "output_type": "execute_result"
    }
   ],
   "source": [
    "# Given a number n, return True if n is in the range 1..10, inclusive.\n",
    "# Unless outside_mode is True, in which case return True if the\n",
    "# number is less or equal to 1, or greater or equal to 10.\n",
    "\n",
    "def in1to10(n, outside_mode):\n",
    "    if outside_mode:\n",
    "        return n <= 1 or n >= 10\n",
    "    return 1 <= n <= 10\n",
    "\n",
    "in1to10(5, False)"
   ]
  },
  {
   "cell_type": "code",
   "execution_count": 9,
   "metadata": {},
   "outputs": [
    {
     "data": {
      "text/plain": [
       "True"
      ]
     },
     "execution_count": 9,
     "metadata": {},
     "output_type": "execute_result"
    }
   ],
   "source": [
    "# Given a non-negative number \"num\", return True if num is within 2 of a multiple of 10.\n",
    "# Note: (a % b) is the remainder of dividing a by b, so (7 % 5) is 2.\n",
    "# See also: Introduction to Mod\n",
    "\n",
    "def near_ten(num):\n",
    "    mod = num % 10\n",
    "    return mod <=2 or mod >= 8\n",
    "\n",
    "near_ten(12)"
   ]
  }
 ],
 "metadata": {
  "kernelspec": {
   "display_name": "Python 3",
   "language": "python",
   "name": "python3"
  },
  "language_info": {
   "codemirror_mode": {
    "name": "ipython",
    "version": 3
   },
   "file_extension": ".py",
   "mimetype": "text/x-python",
   "name": "python",
   "nbconvert_exporter": "python",
   "pygments_lexer": "ipython3",
   "version": "3.7.4"
  }
 },
 "nbformat": 4,
 "nbformat_minor": 2
}
