{
 "cells": [
  {
   "cell_type": "markdown",
   "metadata": {},
   "source": [
    "# String 2"
   ]
  },
  {
   "cell_type": "code",
   "execution_count": 1,
   "metadata": {},
   "outputs": [
    {
     "data": {
      "text/plain": [
       "'TThhee'"
      ]
     },
     "execution_count": 1,
     "metadata": {},
     "output_type": "execute_result"
    }
   ],
   "source": [
    "# Given a string, return a string where for every char in the original, there are two chars.\n",
    "\n",
    "def double_char(str):\n",
    "    return \"\".join([x*2 for x in str])\n",
    "\n",
    "double_char('The')"
   ]
  },
  {
   "cell_type": "code",
   "execution_count": 2,
   "metadata": {},
   "outputs": [
    {
     "data": {
      "text/plain": [
       "1"
      ]
     },
     "execution_count": 2,
     "metadata": {},
     "output_type": "execute_result"
    }
   ],
   "source": [
    "# Return the number of times that the string \"hi\" appears anywhere in the given string.\n",
    "\n",
    "def count_hi(str):\n",
    "    return str.count('hi')\n",
    "\n",
    "count_hi('abc hi ho')"
   ]
  },
  {
   "cell_type": "code",
   "execution_count": 3,
   "metadata": {},
   "outputs": [
    {
     "data": {
      "text/plain": [
       "True"
      ]
     },
     "execution_count": 3,
     "metadata": {},
     "output_type": "execute_result"
    }
   ],
   "source": [
    "# Return True if the string \"cat\" and \"dog\" appear the same number of times in the given string.\n",
    "\n",
    "def cat_dog(str):\n",
    "    return str.count('cat') == str.count('dog')\n",
    "\n",
    "cat_dog('catdog')"
   ]
  },
  {
   "cell_type": "code",
   "execution_count": 4,
   "metadata": {},
   "outputs": [
    {
     "data": {
      "text/plain": [
       "1"
      ]
     },
     "execution_count": 4,
     "metadata": {},
     "output_type": "execute_result"
    }
   ],
   "source": [
    "# Return the number of times that the string \"code\" appears anywhere in the given string,\n",
    "# except we'll accept any letter for the 'd', so \"cope\" and \"cooe\" count.\n",
    "\n",
    "def count_code(str):\n",
    "    counter = 0\n",
    "    for i in range(len(str) - 3):\n",
    "        if str[i:i+2] == \"co\" and str[i+3] == \"e\":\n",
    "            counter += 1\n",
    "    return counter\n",
    "\n",
    "count_code('aaacodebbb')"
   ]
  },
  {
   "cell_type": "code",
   "execution_count": 5,
   "metadata": {},
   "outputs": [
    {
     "data": {
      "text/plain": [
       "True"
      ]
     },
     "execution_count": 5,
     "metadata": {},
     "output_type": "execute_result"
    }
   ],
   "source": [
    "# Given two strings, return True if either of the strings appears at the very end of the other\n",
    "# string, ignoring upper/lower case differences (in other words, the computation should not\n",
    "# be \"case sensitive\"). Note: s.lower() returns the lowercase version of a string.\n",
    "\n",
    "def end_other(s1, s2):\n",
    "    s1, s2 = s1.lower(), s2.lower()\n",
    "    return s1.endswith(s2) or s2.endswith(s1)\n",
    "\n",
    "end_other('Hiabc', 'abc')"
   ]
  },
  {
   "cell_type": "code",
   "execution_count": 6,
   "metadata": {},
   "outputs": [
    {
     "data": {
      "text/plain": [
       "True"
      ]
     },
     "execution_count": 6,
     "metadata": {},
     "output_type": "execute_result"
    }
   ],
   "source": [
    "# Return True if the given string contains an appearance of \"xyz\" where the xyz is not directly\n",
    "# preceeded by a period (.). So \"xxyz\" counts but \"x.xyz\" does not.\n",
    "\n",
    "# one solution using split()\n",
    "def xyz_there(str):\n",
    "    for i in str.split('.xyz'):\n",
    "        if i.count('xyz'): return True\n",
    "    return False\n",
    "\n",
    "# a shorter way by replacing '.xyz' with ''\n",
    "def xyz_there(str):\n",
    "    return str.replace('.xyz',\"\").count('xyz') > 0\n",
    "\n",
    "xyz_there('xyz .xyz axyz abc.xyz')"
   ]
  }
 ],
 "metadata": {
  "kernelspec": {
   "display_name": "Python 3",
   "language": "python",
   "name": "python3"
  },
  "language_info": {
   "codemirror_mode": {
    "name": "ipython",
    "version": 3
   },
   "file_extension": ".py",
   "mimetype": "text/x-python",
   "name": "python",
   "nbconvert_exporter": "python",
   "pygments_lexer": "ipython3",
   "version": "3.7.4"
  }
 },
 "nbformat": 4,
 "nbformat_minor": 2
}
