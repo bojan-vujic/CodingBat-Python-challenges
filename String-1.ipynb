{
 "cells": [
  {
   "cell_type": "markdown",
   "metadata": {},
   "source": [
    "# String-1"
   ]
  },
  {
   "cell_type": "code",
   "execution_count": 1,
   "metadata": {},
   "outputs": [
    {
     "data": {
      "text/plain": [
       "'Hello Bob!'"
      ]
     },
     "execution_count": 1,
     "metadata": {},
     "output_type": "execute_result"
    }
   ],
   "source": [
    "# Given a string name, e.g. \"Bob\", return a greeting of the form \"Hello Bob!\".\n",
    "\n",
    "def hello_name(name):\n",
    "    return 'Hello %s!' % name\n",
    "\n",
    "hello_name('Bob')"
   ]
  },
  {
   "cell_type": "code",
   "execution_count": 2,
   "metadata": {},
   "outputs": [
    {
     "data": {
      "text/plain": [
       "'HiByeByeHi'"
      ]
     },
     "execution_count": 2,
     "metadata": {},
     "output_type": "execute_result"
    }
   ],
   "source": [
    "# Given two strings, a and b, return the result of putting them together\n",
    "# in the order abba, e.g. \"Hi\" and \"Bye\" returns \"HiByeByeHi\".\n",
    "\n",
    "def make_abba(a, b):\n",
    "    return a + b*2 + a\n",
    "\n",
    "make_abba('Hi', 'Bye')"
   ]
  },
  {
   "cell_type": "code",
   "execution_count": 3,
   "metadata": {},
   "outputs": [
    {
     "data": {
      "text/plain": [
       "'<i>Yay</i>'"
      ]
     },
     "execution_count": 3,
     "metadata": {},
     "output_type": "execute_result"
    }
   ],
   "source": [
    "# The web is built with HTML strings like \"<i>Yay</i>\" which draws Yay as italic text.\n",
    "# In this example, the \"i\" tag makes <i> and </i> which surround the word \"Yay\".\n",
    "# Given tag and word strings, create the HTML string with tags around the word, e.g. \"<i>Yay</i>\".make_tags\n",
    "\n",
    "def make_tags(tag, word):\n",
    "    return '<%s>%s</%s>' % (tag, word, tag)\n",
    "\n",
    "make_tags('i', 'Yay')"
   ]
  },
  {
   "cell_type": "code",
   "execution_count": 4,
   "metadata": {},
   "outputs": [
    {
     "data": {
      "text/plain": [
       "'<<Yay>>'"
      ]
     },
     "execution_count": 4,
     "metadata": {},
     "output_type": "execute_result"
    }
   ],
   "source": [
    "# Given an \"out\" string length 4, such as \"<<>>\", and a word, return a new string\n",
    "# where the word is in the middle of the out string, e.g. \"<<word>>\".\n",
    "\n",
    "def make_out_word(out, word):\n",
    "    return out[:int(len(out) / 2)] + word + out[int(len(out) / 2):]\n",
    "\n",
    "make_out_word('<<>>', 'Yay')"
   ]
  },
  {
   "cell_type": "code",
   "execution_count": 5,
   "metadata": {},
   "outputs": [
    {
     "data": {
      "text/plain": [
       "'lololo'"
      ]
     },
     "execution_count": 5,
     "metadata": {},
     "output_type": "execute_result"
    }
   ],
   "source": [
    "# Given a string, return a new string made of 3 copies of the last 2 chars of\n",
    "# the original string. The string length will be at least 2.\n",
    "\n",
    "def extra_end(str):\n",
    "    return str[-2:]*3\n",
    "\n",
    "extra_end('Hello')"
   ]
  },
  {
   "cell_type": "code",
   "execution_count": 6,
   "metadata": {},
   "outputs": [
    {
     "data": {
      "text/plain": [
       "'He'"
      ]
     },
     "execution_count": 6,
     "metadata": {},
     "output_type": "execute_result"
    }
   ],
   "source": [
    "# Given a string, return the string made of its first two chars, so the String\n",
    "# \"Hello\" yields \"He\". If the string is shorter than length 2, return whatever\n",
    "# there is, so \"X\" yields \"X\", and the empty string \"\" yields the empty string \"\".\n",
    "\n",
    "def first_two(str):\n",
    "    if len(str) < 2:\n",
    "        return str\n",
    "    return str[:2]\n",
    "\n",
    "first_two('Hello')"
   ]
  },
  {
   "cell_type": "code",
   "execution_count": 7,
   "metadata": {},
   "outputs": [
    {
     "data": {
      "text/plain": [
       "'Woo'"
      ]
     },
     "execution_count": 7,
     "metadata": {},
     "output_type": "execute_result"
    }
   ],
   "source": [
    "# Given a string of even length, return the first half. So the string \"WooHoo\" yields \"Woo\".\n",
    "\n",
    "def first_half(str):\n",
    "    return str[:int(len(str)/2)]\n",
    "\n",
    "first_half('WooHoo')"
   ]
  },
  {
   "cell_type": "code",
   "execution_count": 8,
   "metadata": {},
   "outputs": [
    {
     "data": {
      "text/plain": [
       "'ell'"
      ]
     },
     "execution_count": 8,
     "metadata": {},
     "output_type": "execute_result"
    }
   ],
   "source": [
    "# Given a string, return a version without the first and last char,\n",
    "# so \"Hello\" yields \"ell\". The string length will be at least 2.\n",
    "\n",
    "def without_end(str):\n",
    "    return str[1:-1]\n",
    "\n",
    "without_end('Hello')"
   ]
  },
  {
   "cell_type": "code",
   "execution_count": 9,
   "metadata": {},
   "outputs": [
    {
     "data": {
      "text/plain": [
       "'hiHellohi'"
      ]
     },
     "execution_count": 9,
     "metadata": {},
     "output_type": "execute_result"
    }
   ],
   "source": [
    "# Given 2 strings, a and b, return a string of the form short+long+short,\n",
    "# with the shorter string on the outside and the longer string on the inside.\n",
    "# The strings will not be the same length, but they may be empty (length 0).\n",
    "\n",
    "def combo_string(a, b):\n",
    "    if len(a) > len(b):\n",
    "        return b + a + b\n",
    "    return a + b + a\n",
    "\n",
    "combo_string('Hello', 'hi')"
   ]
  },
  {
   "cell_type": "code",
   "execution_count": 10,
   "metadata": {},
   "outputs": [
    {
     "data": {
      "text/plain": [
       "'ellohere'"
      ]
     },
     "execution_count": 10,
     "metadata": {},
     "output_type": "execute_result"
    }
   ],
   "source": [
    "# Given 2 strings, return their concatenation, except omit the first char of each.\n",
    "# The strings will be at least length 1.\n",
    "\n",
    "def non_start(a, b):\n",
    "    return a[1:] + b[1:]\n",
    "\n",
    "non_start('Hello', 'There')"
   ]
  },
  {
   "cell_type": "code",
   "execution_count": 11,
   "metadata": {},
   "outputs": [
    {
     "data": {
      "text/plain": [
       "'lloHe'"
      ]
     },
     "execution_count": 11,
     "metadata": {},
     "output_type": "execute_result"
    }
   ],
   "source": [
    "# Given a string, return a \"rotated left 2\" version where the first 2 chars\n",
    "# are moved to the end. The string length will be at least 2.\n",
    "\n",
    "def left2(str):\n",
    "    return str[2:] + str[:2]\n",
    "\n",
    "left2('Hello')"
   ]
  }
 ],
 "metadata": {
  "kernelspec": {
   "display_name": "Python 3",
   "language": "python",
   "name": "python3"
  },
  "language_info": {
   "codemirror_mode": {
    "name": "ipython",
    "version": 3
   },
   "file_extension": ".py",
   "mimetype": "text/x-python",
   "name": "python",
   "nbconvert_exporter": "python",
   "pygments_lexer": "ipython3",
   "version": "3.7.4"
  }
 },
 "nbformat": 4,
 "nbformat_minor": 2
}
