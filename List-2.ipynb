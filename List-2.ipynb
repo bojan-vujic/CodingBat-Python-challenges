{
 "cells": [
  {
   "cell_type": "markdown",
   "metadata": {},
   "source": [
    "# List 2"
   ]
  },
  {
   "cell_type": "code",
   "execution_count": 1,
   "metadata": {},
   "outputs": [
    {
     "data": {
      "text/plain": [
       "3"
      ]
     },
     "execution_count": 1,
     "metadata": {},
     "output_type": "execute_result"
    }
   ],
   "source": [
    "# Return the number of even ints in the given array. Note: the % \"mod\"\n",
    "# operator computes the remainder, e.g. 5 % 2 is 1.\n",
    "\n",
    "def count_evens(nums):\n",
    "    count = 0\n",
    "    for i in nums:\n",
    "        if i % 2 == 0: count += 1\n",
    "    return count\n",
    "\n",
    "# This one is basically the same as the previous, but a lot shorter\n",
    "def count_evens(nums):\n",
    "    return len([i for i in nums if i % 2 == 0])\n",
    "\n",
    "count_evens([2, 1, 2, 3, 4])"
   ]
  },
  {
   "cell_type": "code",
   "execution_count": 2,
   "metadata": {},
   "outputs": [
    {
     "data": {
      "text/plain": [
       "7"
      ]
     },
     "execution_count": 2,
     "metadata": {},
     "output_type": "execute_result"
    }
   ],
   "source": [
    "# Given an array length 1 or more of ints, return the difference between the largest\n",
    "# and smallest values in the array. Note: the built-in min(v1, v2) and max(v1, v2)\n",
    "# functions return the smaller or larger of two values.\n",
    "\n",
    "def big_diff(nums):\n",
    "    return max(nums) - min(nums)\n",
    "\n",
    "big_diff([10, 3, 5, 6])"
   ]
  },
  {
   "cell_type": "code",
   "execution_count": 3,
   "metadata": {},
   "outputs": [
    {
     "data": {
      "text/plain": [
       "3.0"
      ]
     },
     "execution_count": 3,
     "metadata": {},
     "output_type": "execute_result"
    }
   ],
   "source": [
    "# Return the \"centered\" average of an array of ints, which we'll say is the mean average\n",
    "# of the values, except ignoring the largest and smallest values in the array.\n",
    "# If there are multiple copies of the smallest value, ignore just one copy, and\n",
    "# likewise for the largest value. Use int division to produce the final average.\n",
    "# You may assume that the array is length 3 or more.\n",
    "\n",
    "def centered_average(nums):\n",
    "    return (sum(nums) - min(nums) - max(nums)) / (len(nums) - 2)\n",
    "\n",
    "centered_average([1, 2, 3, 4, 100])"
   ]
  },
  {
   "cell_type": "code",
   "execution_count": 4,
   "metadata": {},
   "outputs": [
    {
     "data": {
      "text/plain": [
       "6"
      ]
     },
     "execution_count": 4,
     "metadata": {},
     "output_type": "execute_result"
    }
   ],
   "source": [
    "# Return the sum of the numbers in the array, returning 0 for an empty array.\n",
    "# Except the number 13 is very unlucky, so it does not count and numbers\n",
    "# that come immediately after a 13 also do not count.\n",
    "\n",
    "def sum13(nums):\n",
    "    s, i = 0, 0\n",
    "    while i < len(nums):\n",
    "        if nums[i] == 13:\n",
    "            i += 1\n",
    "        else:\n",
    "            s += nums[i]\n",
    "        i += 1\n",
    "    return s\n",
    "\n",
    "sum13([1, 2, 2, 1])"
   ]
  },
  {
   "cell_type": "code",
   "execution_count": 5,
   "metadata": {},
   "outputs": [
    {
     "data": {
      "text/plain": [
       "5"
      ]
     },
     "execution_count": 5,
     "metadata": {},
     "output_type": "execute_result"
    }
   ],
   "source": [
    "# Return the sum of the numbers in the array, except ignore sections of numbers\n",
    "# starting with a 6 and extending to the next 7 (every 6 will be followed by\n",
    "# at least one 7). Return 0 for no numbers.\n",
    "\n",
    "def sum67(nums):\n",
    "    counter ,find = 0, False\n",
    "    for i in range(len(nums)):\n",
    "        if nums[i] == 6:\n",
    "            find = True\n",
    "        if not find:\n",
    "            counter += nums[i]\n",
    "        if nums[i] == 7 and find:\n",
    "            find = False\n",
    "    return counter\n",
    "\n",
    "sum67([1, 2, 2])"
   ]
  },
  {
   "cell_type": "code",
   "execution_count": 6,
   "metadata": {},
   "outputs": [
    {
     "data": {
      "text/plain": [
       "True"
      ]
     },
     "execution_count": 6,
     "metadata": {},
     "output_type": "execute_result"
    }
   ],
   "source": [
    "# Given an array of ints, return True if the array contains a 2 next to a 2 somewhere.\n",
    "\n",
    "def has22(nums):\n",
    "    for i in range(len(nums)-1):\n",
    "        if nums[i] == 2 and nums[i+1] == 2:\n",
    "            return True\n",
    "    return False\n",
    "\n",
    "has22([1, 2, 2])"
   ]
  }
 ],
 "metadata": {
  "kernelspec": {
   "display_name": "Python 3",
   "language": "python",
   "name": "python3"
  },
  "language_info": {
   "codemirror_mode": {
    "name": "ipython",
    "version": 3
   },
   "file_extension": ".py",
   "mimetype": "text/x-python",
   "name": "python",
   "nbconvert_exporter": "python",
   "pygments_lexer": "ipython3",
   "version": "3.7.4"
  }
 },
 "nbformat": 4,
 "nbformat_minor": 2
}
