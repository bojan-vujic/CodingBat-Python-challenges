{
 "cells": [
  {
   "cell_type": "markdown",
   "metadata": {},
   "source": [
    "# List 1"
   ]
  },
  {
   "cell_type": "code",
   "execution_count": 1,
   "metadata": {},
   "outputs": [
    {
     "data": {
      "text/plain": [
       "True"
      ]
     },
     "execution_count": 1,
     "metadata": {},
     "output_type": "execute_result"
    }
   ],
   "source": [
    "# Given an array of ints, return True if 6 appears as either the first\n",
    "# or last element in the array. The array will be length 1 or more.\n",
    "\n",
    "def first_last6(nums):\n",
    "    if nums[0] == 6 or nums[-1] == 6:\n",
    "        return True\n",
    "    return False\n",
    "\n",
    "first_last6([1, 2, 6])"
   ]
  },
  {
   "cell_type": "code",
   "execution_count": 2,
   "metadata": {},
   "outputs": [
    {
     "data": {
      "text/plain": [
       "False"
      ]
     },
     "execution_count": 2,
     "metadata": {},
     "output_type": "execute_result"
    }
   ],
   "source": [
    "# Given an array of ints, return True if the array is length 1 or more,\n",
    "# and the first element and the last element are equal.\n",
    "\n",
    "def same_first_last(nums):\n",
    "    if (len(nums) > 0) and (nums[0] == nums[-1]):\n",
    "        return True\n",
    "    return False\n",
    "\n",
    "same_first_last([1, 2, 3])"
   ]
  },
  {
   "cell_type": "code",
   "execution_count": 3,
   "metadata": {},
   "outputs": [
    {
     "data": {
      "text/plain": [
       "[3, 1, 4]"
      ]
     },
     "execution_count": 3,
     "metadata": {},
     "output_type": "execute_result"
    }
   ],
   "source": [
    "# Return an int array length 3 containing the first 3 digits of pi, {3, 1, 4}.\n",
    "def make_pi():\n",
    "    return [3, 1, 4]\n",
    "\n",
    "make_pi()"
   ]
  },
  {
   "cell_type": "code",
   "execution_count": 4,
   "metadata": {},
   "outputs": [
    {
     "data": {
      "text/plain": [
       "True"
      ]
     },
     "execution_count": 4,
     "metadata": {},
     "output_type": "execute_result"
    }
   ],
   "source": [
    "# Given 2 arrays of ints, a and b, return True if they have the same first element\n",
    "# or they have the same last element. Both arrays will be length 1 or more.\n",
    "\n",
    "def common_end(a, b):\n",
    "    if a[0] == b[0] or a[-1] == b[-1]:\n",
    "        return True\n",
    "    return False\n",
    "\n",
    "common_end([1, 2, 3], [7, 3])"
   ]
  },
  {
   "cell_type": "code",
   "execution_count": 5,
   "metadata": {},
   "outputs": [
    {
     "data": {
      "text/plain": [
       "6"
      ]
     },
     "execution_count": 5,
     "metadata": {},
     "output_type": "execute_result"
    }
   ],
   "source": [
    "# Given an array of ints length 3, return the sum of all the elements.\n",
    "\n",
    "def sum3(nums):\n",
    "    return sum(nums)\n",
    "\n",
    "sum3([1, 2, 3])"
   ]
  },
  {
   "cell_type": "code",
   "execution_count": 6,
   "metadata": {},
   "outputs": [
    {
     "data": {
      "text/plain": [
       "[2, 3, 1]"
      ]
     },
     "execution_count": 6,
     "metadata": {},
     "output_type": "execute_result"
    }
   ],
   "source": [
    "# Given an array of ints length 3, return an array with the\n",
    "# elements \"rotated left\" so {1, 2, 3} yields {2, 3, 1}.\n",
    "\n",
    "def rotate_left3(nums):\n",
    "    return [nums[1], nums[2], nums[0]]\n",
    "\n",
    "rotate_left3([1, 2, 3])"
   ]
  },
  {
   "cell_type": "code",
   "execution_count": 7,
   "metadata": {},
   "outputs": [
    {
     "data": {
      "text/plain": [
       "[3, 2, 1]"
      ]
     },
     "execution_count": 7,
     "metadata": {},
     "output_type": "execute_result"
    }
   ],
   "source": [
    "# Given an array of ints length 3, return a new array with the elements\n",
    "# in reverse order, so {1, 2, 3} becomes {3, 2, 1}.\n",
    "\n",
    "def reverse3(nums):\n",
    "    return nums[::-1]\n",
    "\n",
    "reverse3([1, 2, 3])"
   ]
  },
  {
   "cell_type": "code",
   "execution_count": 8,
   "metadata": {},
   "outputs": [
    {
     "data": {
      "text/plain": [
       "[3, 3, 3]"
      ]
     },
     "execution_count": 8,
     "metadata": {},
     "output_type": "execute_result"
    }
   ],
   "source": [
    "# Given an array of ints length 3, figure out which is larger, the first or last\n",
    "# element in the array, and set all the other elements to be that value.\n",
    "# Return the changed array.\n",
    "\n",
    "def max_end3(nums):\n",
    "    if nums[2] >= nums[0]:\n",
    "        return [nums[2]] * 3\n",
    "    return [nums[0]] * 3\n",
    "\n",
    "max_end3([1, 2, 3])"
   ]
  },
  {
   "cell_type": "code",
   "execution_count": 9,
   "metadata": {},
   "outputs": [
    {
     "data": {
      "text/plain": [
       "3"
      ]
     },
     "execution_count": 9,
     "metadata": {},
     "output_type": "execute_result"
    }
   ],
   "source": [
    "# Given an array of ints, return the sum of the first 2 elements in the array.\n",
    "# If the array length is less than 2, just sum up the elements that exist,\n",
    "# returning 0 if the array is length 0.\n",
    "\n",
    "def sum2(nums):\n",
    "    if len(nums) < 2:\n",
    "        return sum(nums)\n",
    "    return sum(nums[:2])\n",
    "\n",
    "sum2([1, 2, 3])"
   ]
  },
  {
   "cell_type": "code",
   "execution_count": 10,
   "metadata": {},
   "outputs": [
    {
     "data": {
      "text/plain": [
       "[2, 5]"
      ]
     },
     "execution_count": 10,
     "metadata": {},
     "output_type": "execute_result"
    }
   ],
   "source": [
    "# Given 2 int arrays, a and b, each length 3, return a new array\n",
    "# length 2 containing their middle elements.\n",
    "\n",
    "def middle_way(a, b):\n",
    "    return [a[1], b[1]]\n",
    "\n",
    "middle_way([1, 2, 3], [4, 5, 6])"
   ]
  },
  {
   "cell_type": "code",
   "execution_count": 11,
   "metadata": {},
   "outputs": [
    {
     "data": {
      "text/plain": [
       "[1, 3]"
      ]
     },
     "execution_count": 11,
     "metadata": {},
     "output_type": "execute_result"
    }
   ],
   "source": [
    "# Given an array of ints, return a new array length 2 containing the first and last\n",
    "# elements from the original array. The original array will be length 1 or more.\n",
    "\n",
    "def make_ends(nums):\n",
    "    return [nums[0], nums[-1]]\n",
    "\n",
    "make_ends([1, 2, 3])"
   ]
  },
  {
   "cell_type": "code",
   "execution_count": 12,
   "metadata": {},
   "outputs": [
    {
     "data": {
      "text/plain": [
       "True"
      ]
     },
     "execution_count": 12,
     "metadata": {},
     "output_type": "execute_result"
    }
   ],
   "source": [
    "# Given an int array length 2, return True if it contains a 2 or a 3.\n",
    "\n",
    "def has23(nums):\n",
    "    if nums.count(2) > 0 or nums.count(3):\n",
    "        return True\n",
    "    return False\n",
    "\n",
    "has23([2, 5])"
   ]
  }
 ],
 "metadata": {
  "kernelspec": {
   "display_name": "Python 3",
   "language": "python",
   "name": "python3"
  },
  "language_info": {
   "codemirror_mode": {
    "name": "ipython",
    "version": 3
   },
   "file_extension": ".py",
   "mimetype": "text/x-python",
   "name": "python",
   "nbconvert_exporter": "python",
   "pygments_lexer": "ipython3",
   "version": "3.7.4"
  }
 },
 "nbformat": 4,
 "nbformat_minor": 2
}
